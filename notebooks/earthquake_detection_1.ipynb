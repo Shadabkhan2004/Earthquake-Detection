{
 "cells": [
  {
   "cell_type": "code",
   "execution_count": 1,
   "id": "dde97174",
   "metadata": {},
   "outputs": [],
   "source": [
    "import h5py\n",
    "from collections import defaultdict\n",
    "import random\n",
    "import numpy as np\n",
    "import pickle\n",
    "import os"
   ]
  },
  {
   "cell_type": "code",
   "execution_count": 2,
   "id": "d3790e76",
   "metadata": {},
   "outputs": [],
   "source": [
    "file_path = \"../data/merge.hdf5\"\n",
    "\n",
    "\n",
    "hdf5_file = h5py.File(file_path, 'r')\n",
    "data_group = hdf5_file['data']"
   ]
  },
  {
   "cell_type": "code",
   "execution_count": 3,
   "id": "52e073e1",
   "metadata": {},
   "outputs": [
    {
     "name": "stdout",
     "output_type": "stream",
     "text": [
      "Attributes in sample :  {'back_azimuth_deg': 159.3, 'coda_end_sample': array([[2896.]], dtype=float32), 'network_code': 'TA', 'p_arrival_sample': 700.0, 'p_status': 'manual', 'p_travel_sec': 17.079999923706055, 'p_weight': 0.5, 'receiver_code': '109C', 'receiver_elevation_m': 150.0, 'receiver_latitude': 32.8889, 'receiver_longitude': -117.1051, 'receiver_type': 'BH', 's_arrival_sample': 1894.0, 's_status': 'manual', 's_weight': 0.5, 'snr_db': array([56.79999924, 55.40000153, 47.40000153]), 'source_depth_km': 0.45, 'source_depth_uncertainty_km': 'None', 'source_distance_deg': 0.92, 'source_distance_km': 102.09, 'source_error_sec': 1.1119, 'source_gap_deg': 107.466, 'source_horizontal_uncertainty_km': 4.6403, 'source_id': '8556349', 'source_latitude': 33.7496, 'source_longitude': -117.4938, 'source_magnitude': 3.6, 'source_magnitude_author': 'None', 'source_magnitude_type': 'ml', 'source_mechanism_strike_dip_rake': 'None', 'source_origin_time': '2006-07-23 15:58:50.88', 'source_origin_uncertainty_sec': 0.47, 'trace_category': 'earthquake_local', 'trace_name': '109C.TA_20060723155859_EV', 'trace_start_time': '2006-07-23 15:59:00.960000'}\n",
      "Key :  109C.TA_20060723155859_EV\n"
     ]
    }
   ],
   "source": [
    "sample_key = list(data_group.keys())[0]\n",
    "sample = data_group[sample_key]\n",
    "\n",
    "print(\"Attributes in sample : \",dict(sample.attrs))\n",
    "print(\"Key : \",sample_key)"
   ]
  },
  {
   "cell_type": "code",
   "execution_count": 4,
   "id": "f15f0bd9",
   "metadata": {},
   "outputs": [
    {
     "name": "stdout",
     "output_type": "stream",
     "text": [
      "Label: earthquake_local\n",
      "Reciever code :  109C\n"
     ]
    }
   ],
   "source": [
    "attrs = sample.attrs\n",
    "print(\"Label:\", attrs['trace_category'])\n",
    "print(\"Reciever code : \",attrs['receiver_code'])"
   ]
  },
  {
   "cell_type": "code",
   "execution_count": 5,
   "id": "12e2ba4e",
   "metadata": {},
   "outputs": [
    {
     "name": "stdout",
     "output_type": "stream",
     "text": [
      "Total subset keys: 70000\n"
     ]
    }
   ],
   "source": [
    "earthquake_keys = np.load(\"../preprocessed/earthquake_keys.npy\", allow_pickle=True)\n",
    "noise_keys = np.load(\"../preprocessed/noise_keys.npy\", allow_pickle=True)\n",
    "subset_keys = np.concatenate([earthquake_keys, noise_keys])\n",
    "\n",
    "print(f\"Total subset keys: {len(subset_keys)}\")"
   ]
  },
  {
   "cell_type": "code",
   "execution_count": null,
   "id": "d7891c20",
   "metadata": {},
   "outputs": [],
   "source": [
    "key_to_label = {}\n",
    "station_to_keys = defaultdict(list)\n",
    "\n",
    "for key in subset_keys:\n",
    "    attrs = data_group[key].attrs\n",
    "    label = 1 if attrs[\"trace_category\"] == \"earthquake_local\" else 0\n",
    "    station = attrs[\"receiver_code\"]\n",
    "    key_to_label[key] = label\n",
    "    station_to_keys[station].append(key)\n",
    "\n",
    "print(f\"Total stations in subset: {len(station_to_keys)}\")\n",
    "\n",
    "with open(\"../preprocessed/key_to_label.pkl\", \"wb\") as f:\n",
    "    pickle.dump(key_to_label, f)\n",
    "\n",
    "with open(\"../preprocessed/station_to_keys.pkl\", \"wb\") as f:\n",
    "    pickle.dump(station_to_keys, f)"
   ]
  },
  {
   "cell_type": "code",
   "execution_count": 6,
   "id": "282c22fc",
   "metadata": {},
   "outputs": [],
   "source": [
    "with open(\"../preprocessed/key_to_label.pkl\", \"rb\") as f:\n",
    "    key_to_label = pickle.load(f)\n",
    "\n",
    "with open(\"../preprocessed/station_to_keys.pkl\", \"rb\") as f:\n",
    "    station_to_keys = pickle.load(f)"
   ]
  },
  {
   "cell_type": "markdown",
   "id": "5b09c035",
   "metadata": {},
   "source": [
    "##### Splitting Train , Val , Test data based on Stations"
   ]
  },
  {
   "cell_type": "code",
   "execution_count": 80,
   "id": "fd8a0619",
   "metadata": {},
   "outputs": [],
   "source": [
    "stations = list(station_to_keys.keys())\n",
    "random.seed(40)\n",
    "random.shuffle(stations)\n",
    "\n",
    "n_total = len(stations)\n",
    "n_train = int(0.8 * n_total)\n",
    "n_val = int(0.1 * n_total)\n",
    "\n",
    "train_stations = stations[:n_train]\n",
    "val_stations = stations[n_train:n_train + n_val]\n",
    "test_stations = stations[n_train + n_val:]"
   ]
  },
  {
   "cell_type": "code",
   "execution_count": 81,
   "id": "23642838",
   "metadata": {},
   "outputs": [
    {
     "name": "stdout",
     "output_type": "stream",
     "text": [
      "(55266, 2)\n",
      "(7420, 2)\n",
      "(7314, 2)\n"
     ]
    }
   ],
   "source": [
    "def collect_samples(station_list):\n",
    "  return np.array([\n",
    "    (key, key_to_label[key])\n",
    "    for st in station_list\n",
    "    for key in station_to_keys[st]\n",
    "  ], dtype=object)\n",
    "\n",
    "train_samples = collect_samples(train_stations)\n",
    "val_samples   = collect_samples(val_stations)\n",
    "test_samples  = collect_samples(test_stations)\n",
    "\n",
    "print(train_samples.shape)\n",
    "print(val_samples.shape)\n",
    "print(test_samples.shape)"
   ]
  },
  {
   "cell_type": "code",
   "execution_count": 82,
   "id": "b6ddd7b9",
   "metadata": {},
   "outputs": [],
   "source": [
    "np.save(\"../preprocessed/train_split.npy\", train_samples)\n",
    "np.save(\"../preprocessed/val_split.npy\", val_samples)\n",
    "np.save(\"../preprocessed/test_split.npy\", test_samples)"
   ]
  },
  {
   "cell_type": "code",
   "execution_count": 7,
   "id": "ecd30781",
   "metadata": {},
   "outputs": [
    {
     "name": "stdout",
     "output_type": "stream",
     "text": [
      "(55266, 2)\n",
      "(7420, 2)\n",
      "(7314, 2)\n"
     ]
    }
   ],
   "source": [
    "train_samples = np.load(\"../preprocessed/train_split.npy\",allow_pickle=True)\n",
    "val_samples = np.load(\"../preprocessed/val_split.npy\",allow_pickle=True)\n",
    "test_samples = np.load(\"../preprocessed/test_split.npy\",allow_pickle=True)\n",
    "\n",
    "print(train_samples.shape)\n",
    "print(val_samples.shape)\n",
    "print(test_samples.shape)"
   ]
  },
  {
   "cell_type": "code",
   "execution_count": 84,
   "id": "b41141f3",
   "metadata": {},
   "outputs": [
    {
     "name": "stderr",
     "output_type": "stream",
     "text": [
      "train processing: 100%|██████████| 55266/55266 [25:04<00:00, 36.75it/s]\n"
     ]
    },
    {
     "name": "stdout",
     "output_type": "stream",
     "text": [
      "train saved: (55266, 65, 95, 3), (55266,)\n"
     ]
    },
    {
     "name": "stderr",
     "output_type": "stream",
     "text": [
      "val processing: 100%|██████████| 7420/7420 [03:39<00:00, 33.79it/s]\n"
     ]
    },
    {
     "name": "stdout",
     "output_type": "stream",
     "text": [
      "val saved: (7420, 65, 95, 3), (7420,)\n"
     ]
    },
    {
     "name": "stderr",
     "output_type": "stream",
     "text": [
      "test processing: 100%|██████████| 7314/7314 [02:56<00:00, 41.48it/s]\n"
     ]
    },
    {
     "name": "stdout",
     "output_type": "stream",
     "text": [
      "test saved: (7314, 65, 95, 3), (7314,)\n"
     ]
    }
   ],
   "source": [
    "from scipy.signal import stft\n",
    "from tqdm import tqdm\n",
    "\n",
    "\n",
    "os.makedirs(\"../preprocessed/spectrograms\", exist_ok=True)\n",
    "\n",
    "# STFT parameters\n",
    "fs = 100  # Hz (STEAD sampling rate)\n",
    "nperseg = 128\n",
    "noverlap = 64\n",
    "nfft = 128\n",
    "\n",
    "def preprocess_sample(hdf5_file, key):\n",
    "    sample = hdf5_file['data'][key][:]\n",
    "    sample = (sample - sample.mean(axis=0)) / (sample.std(axis=0) + 1e-6)\n",
    "\n",
    "    specs = []\n",
    "    for ch in range(3):\n",
    "        f, t, Zxx = stft(sample[:, ch], fs=fs, nperseg=nperseg,\n",
    "                         noverlap=noverlap, nfft=nfft)\n",
    "        Sxx = np.abs(Zxx)\n",
    "        Sxx = (Sxx - Sxx.min()) / (Sxx.max() - Sxx.min() + 1e-6)\n",
    "        specs.append(Sxx)\n",
    "\n",
    "    return np.stack(specs, axis=-1).astype(np.float32)\n",
    "\n",
    "def preprocess_split(split_name):\n",
    "    samples = np.load(f\"../preprocessed/{split_name}_split.npy\", allow_pickle=True)\n",
    "    X_list, y_list = [], []\n",
    "    with h5py.File(file_path, \"r\") as f:\n",
    "        for i, (key, label) in enumerate(tqdm(samples, desc=f\"{split_name} processing\")):\n",
    "            spec = preprocess_sample(f, key)\n",
    "            X_list.append(spec)\n",
    "            y_list.append(label)\n",
    "\n",
    "    X = np.array(X_list)\n",
    "    y = np.array(y_list)\n",
    "    np.save(f\"../preprocessed/spectrograms/X_{split_name}.npy\", X)\n",
    "    np.save(f\"../preprocessed/spectrograms/y_{split_name}.npy\", y)\n",
    "    print(f\"{split_name} saved: {X.shape}, {y.shape}\")\n",
    "\n",
    "\n",
    "preprocess_split(\"train\")\n",
    "preprocess_split(\"val\")\n",
    "preprocess_split(\"test\")\n"
   ]
  },
  {
   "cell_type": "code",
   "execution_count": 8,
   "id": "1e6970b0",
   "metadata": {},
   "outputs": [],
   "source": [
    "import tensorflow as tf\n",
    "from tensorflow.keras import layers, models\n",
    "from sklearn.metrics import classification_report, confusion_matrix"
   ]
  },
  {
   "cell_type": "code",
   "execution_count": 9,
   "id": "e6379eda",
   "metadata": {},
   "outputs": [],
   "source": [
    "X_train = np.load(\"../preprocessed/spectrograms/X_train.npy\")\n",
    "y_train = np.load(\"../preprocessed/spectrograms/y_train.npy\")\n",
    "X_val = np.load(\"../preprocessed/spectrograms/X_val.npy\")\n",
    "y_val = np.load(\"../preprocessed/spectrograms/y_val.npy\")\n",
    "X_test = np.load(\"../preprocessed/spectrograms/X_test.npy\")\n",
    "y_test = np.load(\"../preprocessed/spectrograms/y_test.npy\")"
   ]
  },
  {
   "cell_type": "code",
   "execution_count": 10,
   "id": "37a315c3",
   "metadata": {},
   "outputs": [
    {
     "name": "stdout",
     "output_type": "stream",
     "text": [
      "Train: (55266, 65, 95, 3), Val: (7420, 65, 95, 3), Test: (7314, 65, 95, 3)\n"
     ]
    }
   ],
   "source": [
    "print(f\"Train: {X_train.shape}, Val: {X_val.shape}, Test: {X_test.shape}\")"
   ]
  },
  {
   "cell_type": "code",
   "execution_count": 11,
   "id": "d434738f",
   "metadata": {},
   "outputs": [],
   "source": [
    "data_augmentation = tf.keras.Sequential([\n",
    "    layers.RandomTranslation(height_factor=0.03, width_factor=0.05),\n",
    "    layers.RandomZoom(0.05),\n",
    "    layers.RandomContrast(0.2),\n",
    "    layers.Lambda(lambda x: x + tf.random.normal(tf.shape(x), stddev=0.02))\n",
    "])"
   ]
  },
  {
   "cell_type": "code",
   "execution_count": 12,
   "id": "e9caea40",
   "metadata": {},
   "outputs": [],
   "source": [
    "BATCH_SIZE = 32\n",
    "\n",
    "def make_dataset(X,y,training=False):\n",
    "  dataset = tf.data.Dataset.from_tensor_slices((X,y))\n",
    "  if training:\n",
    "    dataset = dataset.shuffle(buffer_size=2000)\n",
    "    dataset = dataset.map(lambda x,y : (data_augmentation(x,training=True),y),\n",
    "                          num_parallel_calls=tf.data.AUTOTUNE)\n",
    "  dataset = dataset.batch(BATCH_SIZE).prefetch(tf.data.AUTOTUNE)\n",
    "  return dataset"
   ]
  },
  {
   "cell_type": "code",
   "execution_count": 13,
   "id": "e7c822b0",
   "metadata": {},
   "outputs": [],
   "source": [
    "train_ds = make_dataset(X_train, y_train, training=True)\n",
    "val_ds = make_dataset(X_val, y_val)\n",
    "test_ds = make_dataset(X_test, y_test)"
   ]
  },
  {
   "cell_type": "code",
   "execution_count": 14,
   "id": "b2610a1d",
   "metadata": {},
   "outputs": [
    {
     "name": "stdout",
     "output_type": "stream",
     "text": [
      "Batch X shape: (32, 65, 95, 3)\n",
      "Batch Y shape: (32,)\n"
     ]
    }
   ],
   "source": [
    "for batch_x, batch_y in train_ds.take(1):\n",
    "  print(\"Batch X shape:\", batch_x.shape)\n",
    "  print(\"Batch Y shape:\", batch_y.shape)\n",
    "  break"
   ]
  },
  {
   "cell_type": "code",
   "execution_count": 15,
   "id": "577d19ff",
   "metadata": {},
   "outputs": [
    {
     "name": "stdout",
     "output_type": "stream",
     "text": [
      "Model: \"sequential_1\"\n",
      "_________________________________________________________________\n",
      " Layer (type)                Output Shape              Param #   \n",
      "=================================================================\n",
      " conv2d (Conv2D)             (None, 65, 95, 16)        448       \n",
      "                                                                 \n",
      " batch_normalization (BatchN  (None, 65, 95, 16)       64        \n",
      " ormalization)                                                   \n",
      "                                                                 \n",
      " max_pooling2d (MaxPooling2D  (None, 32, 47, 16)       0         \n",
      " )                                                               \n",
      "                                                                 \n",
      " conv2d_1 (Conv2D)           (None, 32, 47, 32)        4640      \n",
      "                                                                 \n",
      " batch_normalization_1 (Batc  (None, 32, 47, 32)       128       \n",
      " hNormalization)                                                 \n",
      "                                                                 \n",
      " max_pooling2d_1 (MaxPooling  (None, 16, 23, 32)       0         \n",
      " 2D)                                                             \n",
      "                                                                 \n",
      " conv2d_2 (Conv2D)           (None, 16, 23, 64)        18496     \n",
      "                                                                 \n",
      " batch_normalization_2 (Batc  (None, 16, 23, 64)       256       \n",
      " hNormalization)                                                 \n",
      "                                                                 \n",
      " global_average_pooling2d (G  (None, 64)               0         \n",
      " lobalAveragePooling2D)                                          \n",
      "                                                                 \n",
      " dense (Dense)               (None, 64)                4160      \n",
      "                                                                 \n",
      " dropout (Dropout)           (None, 64)                0         \n",
      "                                                                 \n",
      " dense_1 (Dense)             (None, 1)                 65        \n",
      "                                                                 \n",
      "=================================================================\n",
      "Total params: 28,257\n",
      "Trainable params: 28,033\n",
      "Non-trainable params: 224\n",
      "_________________________________________________________________\n"
     ]
    }
   ],
   "source": [
    "def build_cnn(input_shape):\n",
    "    model = models.Sequential([\n",
    "        layers.Input(shape=input_shape),\n",
    "\n",
    "        layers.Conv2D(16, (3,3), activation='relu', padding='same'),\n",
    "        layers.BatchNormalization(),\n",
    "        layers.MaxPooling2D((2,2)),\n",
    "\n",
    "        layers.Conv2D(32, (3,3), activation='relu', padding='same'),\n",
    "        layers.BatchNormalization(),\n",
    "        layers.MaxPooling2D((2,2)),\n",
    "\n",
    "        layers.Conv2D(64, (3,3), activation='relu', padding='same'),\n",
    "        layers.BatchNormalization(),\n",
    "        layers.GlobalAveragePooling2D(),\n",
    "\n",
    "        layers.Dense(64, activation='relu'),\n",
    "        layers.Dropout(0.4),\n",
    "        layers.Dense(1, activation='sigmoid')\n",
    "    ])\n",
    "    return model\n",
    "\n",
    "model = build_cnn(X_train.shape[1:])\n",
    "model.compile(optimizer='adam', loss='binary_crossentropy', metrics=['accuracy'])\n",
    "model.summary()"
   ]
  },
  {
   "cell_type": "code",
   "execution_count": 16,
   "id": "6cd52d0f",
   "metadata": {},
   "outputs": [],
   "source": [
    "from tensorflow.keras import callbacks\n",
    "\n",
    "early_stop = callbacks.EarlyStopping(\n",
    "    monitor='val_loss', patience=5, restore_best_weights=True\n",
    ")"
   ]
  },
  {
   "cell_type": "code",
   "execution_count": 17,
   "id": "008514e4",
   "metadata": {},
   "outputs": [
    {
     "name": "stdout",
     "output_type": "stream",
     "text": [
      "Epoch 1/25\n",
      "1728/1728 [==============================] - 34s 16ms/step - loss: 0.0991 - accuracy: 0.9653 - val_loss: 0.4480 - val_accuracy: 0.8511\n",
      "Epoch 2/25\n",
      "1728/1728 [==============================] - 29s 17ms/step - loss: 0.0559 - accuracy: 0.9822 - val_loss: 0.0341 - val_accuracy: 0.9891\n",
      "Epoch 3/25\n",
      "1728/1728 [==============================] - 30s 17ms/step - loss: 0.0430 - accuracy: 0.9865 - val_loss: 0.0250 - val_accuracy: 0.9918\n",
      "Epoch 4/25\n",
      "1728/1728 [==============================] - 30s 18ms/step - loss: 0.0367 - accuracy: 0.9887 - val_loss: 0.0234 - val_accuracy: 0.9919\n",
      "Epoch 5/25\n",
      "1728/1728 [==============================] - 46s 26ms/step - loss: 0.0324 - accuracy: 0.9893 - val_loss: 2.1832 - val_accuracy: 0.7504\n",
      "Epoch 6/25\n",
      "1728/1728 [==============================] - 33s 19ms/step - loss: 0.0265 - accuracy: 0.9917 - val_loss: 0.0511 - val_accuracy: 0.9845\n",
      "Epoch 7/25\n",
      "1728/1728 [==============================] - 33s 19ms/step - loss: 0.0248 - accuracy: 0.9924 - val_loss: 0.0380 - val_accuracy: 0.9875\n",
      "Epoch 8/25\n",
      "1728/1728 [==============================] - 33s 19ms/step - loss: 0.0220 - accuracy: 0.9931 - val_loss: 0.0228 - val_accuracy: 0.9914\n",
      "Epoch 9/25\n",
      "1728/1728 [==============================] - 34s 19ms/step - loss: 0.0198 - accuracy: 0.9936 - val_loss: 0.0543 - val_accuracy: 0.9863\n",
      "Epoch 10/25\n",
      "1728/1728 [==============================] - 33s 19ms/step - loss: 0.0191 - accuracy: 0.9939 - val_loss: 0.0835 - val_accuracy: 0.9809\n",
      "Epoch 11/25\n",
      "1728/1728 [==============================] - 52s 30ms/step - loss: 0.0171 - accuracy: 0.9949 - val_loss: 0.0184 - val_accuracy: 0.9947\n",
      "Epoch 12/25\n",
      "1728/1728 [==============================] - 33s 19ms/step - loss: 0.0161 - accuracy: 0.9951 - val_loss: 0.0578 - val_accuracy: 0.9834\n",
      "Epoch 13/25\n",
      "1728/1728 [==============================] - 33s 19ms/step - loss: 0.0158 - accuracy: 0.9952 - val_loss: 0.0178 - val_accuracy: 0.9950\n",
      "Epoch 14/25\n",
      "1728/1728 [==============================] - 33s 19ms/step - loss: 0.0149 - accuracy: 0.9955 - val_loss: 0.0225 - val_accuracy: 0.9939\n",
      "Epoch 15/25\n",
      "1728/1728 [==============================] - 33s 19ms/step - loss: 0.0128 - accuracy: 0.9958 - val_loss: 0.0131 - val_accuracy: 0.9954\n",
      "Epoch 16/25\n",
      "1728/1728 [==============================] - 33s 19ms/step - loss: 0.0146 - accuracy: 0.9958 - val_loss: 0.0434 - val_accuracy: 0.9898\n",
      "Epoch 17/25\n",
      "1728/1728 [==============================] - 34s 19ms/step - loss: 0.0120 - accuracy: 0.9964 - val_loss: 0.0147 - val_accuracy: 0.9966\n",
      "Epoch 18/25\n",
      "1728/1728 [==============================] - 33s 19ms/step - loss: 0.0131 - accuracy: 0.9961 - val_loss: 0.0043 - val_accuracy: 0.9981\n",
      "Epoch 19/25\n",
      "1728/1728 [==============================] - 37s 21ms/step - loss: 0.0135 - accuracy: 0.9959 - val_loss: 0.0082 - val_accuracy: 0.9969\n",
      "Epoch 20/25\n",
      "1728/1728 [==============================] - 41s 23ms/step - loss: 0.0113 - accuracy: 0.9963 - val_loss: 0.0047 - val_accuracy: 0.9987\n",
      "Epoch 21/25\n",
      "1728/1728 [==============================] - 38s 22ms/step - loss: 0.0133 - accuracy: 0.9962 - val_loss: 0.0060 - val_accuracy: 0.9978\n",
      "Epoch 22/25\n",
      "1728/1728 [==============================] - 38s 22ms/step - loss: 0.0135 - accuracy: 0.9957 - val_loss: 0.0053 - val_accuracy: 0.9984\n",
      "Epoch 23/25\n",
      "1728/1728 [==============================] - 38s 22ms/step - loss: 0.0113 - accuracy: 0.9965 - val_loss: 0.0036 - val_accuracy: 0.9987\n",
      "Epoch 24/25\n",
      "1728/1728 [==============================] - 38s 22ms/step - loss: 0.0109 - accuracy: 0.9969 - val_loss: 0.0525 - val_accuracy: 0.9858\n",
      "Epoch 25/25\n",
      "1728/1728 [==============================] - 38s 22ms/step - loss: 0.0101 - accuracy: 0.9968 - val_loss: 0.0169 - val_accuracy: 0.9961\n"
     ]
    }
   ],
   "source": [
    "history = model.fit(\n",
    "    train_ds,\n",
    "    validation_data=val_ds,\n",
    "    epochs=25,               \n",
    "    callbacks=[early_stop],\n",
    "    verbose=1\n",
    ")"
   ]
  },
  {
   "cell_type": "code",
   "execution_count": 18,
   "id": "b2dc1e96",
   "metadata": {},
   "outputs": [
    {
     "name": "stdout",
     "output_type": "stream",
     "text": [
      "229/229 [==============================] - 2s 9ms/step - loss: 0.0141 - accuracy: 0.9975\n",
      "Test Loss: 0.0141\n",
      "Test Accuracy: 0.9975\n"
     ]
    }
   ],
   "source": [
    "test_loss, test_acc = model.evaluate(test_ds)\n",
    "print(f\"Test Loss: {test_loss:.4f}\")\n",
    "print(f\"Test Accuracy: {test_acc:.4f}\")"
   ]
  },
  {
   "cell_type": "code",
   "execution_count": 24,
   "id": "6c2d3bc1",
   "metadata": {},
   "outputs": [
    {
     "data": {
      "text/plain": [
       "dict_keys(['loss', 'accuracy', 'val_loss', 'val_accuracy'])"
      ]
     },
     "execution_count": 24,
     "metadata": {},
     "output_type": "execute_result"
    }
   ],
   "source": [
    "history.history.keys()"
   ]
  },
  {
   "cell_type": "code",
   "execution_count": 29,
   "id": "2117a84a",
   "metadata": {},
   "outputs": [
    {
     "data": {
      "image/png": "[encoded data removed]",
      "text/plain": [
       "<Figure size 800x800 with 2 Axes>"
      ]
     },
     "metadata": {},
     "output_type": "display_data"
    }
   ],
   "source": [
    "import matplotlib.pyplot as plt\n",
    "epochs_ran = len(history.history['accuracy'])\n",
    "\n",
    "plt.figure(figsize=(8,8))\n",
    "plt.subplot(1,2,1)\n",
    "plt.plot(range(epochs_ran),history.history['accuracy'],label='Train accuracy')\n",
    "plt.plot(range(epochs_ran),history.history['val_accuracy'],label='Validation accuracy')\n",
    "plt.title('Training and Validation Accuracy')\n",
    "plt.legend(loc='lower right')\n",
    "\n",
    "plt.subplot(1,2,2)\n",
    "plt.plot(range(epochs_ran),history.history['loss'],label='Training Loss')\n",
    "plt.plot(range(epochs_ran),history.history['val_loss'],label='Validation loss')\n",
    "plt.title('Training and Validation Loss')\n",
    "plt.legend(loc='lower right')\n",
    "plt.show()"
   ]
  },
  {
   "cell_type": "code",
   "execution_count": 30,
   "id": "f590886d",
   "metadata": {},
   "outputs": [
    {
     "name": "stdout",
     "output_type": "stream",
     "text": [
      "229/229 [==============================] - 1s 3ms/step\n",
      "              precision    recall  f1-score   support\n",
      "\n",
      "       Noise       1.00      1.00      1.00      3111\n",
      "  Earthquake       1.00      1.00      1.00      4203\n",
      "\n",
      "    accuracy                           1.00      7314\n",
      "   macro avg       1.00      1.00      1.00      7314\n",
      "weighted avg       1.00      1.00      1.00      7314\n",
      "\n",
      "Confusion Matrix:\n",
      " [[3106    5]\n",
      " [  13 4190]]\n"
     ]
    }
   ],
   "source": [
    "y_pred_probs = model.predict(test_ds)\n",
    "y_pred = (y_pred_probs > 0.5).astype(int)\n",
    "\n",
    "\n",
    "y_true = np.concatenate([y for x, y in test_ds], axis=0)\n",
    "\n",
    "\n",
    "print(classification_report(y_true, y_pred, target_names=[\"Noise\",\"Earthquake\"]))\n",
    "\n",
    "\n",
    "cm = confusion_matrix(y_true, y_pred)\n",
    "print(\"Confusion Matrix:\\n\", cm)"
   ]
  },
  {
   "cell_type": "code",
   "execution_count": 32,
   "id": "aff9357d",
   "metadata": {},
   "outputs": [
    {
     "name": "stderr",
     "output_type": "stream",
     "text": [
      "WARNING:absl:Found untraced functions such as _jit_compiled_convolution_op, _jit_compiled_convolution_op, _jit_compiled_convolution_op while saving (showing 3 of 3). These functions will not be directly callable after loading.\n"
     ]
    },
    {
     "name": "stdout",
     "output_type": "stream",
     "text": [
      "INFO:tensorflow:Assets written to: ../models/cnn_baseline_model\\assets\n"
     ]
    },
    {
     "name": "stderr",
     "output_type": "stream",
     "text": [
      "INFO:tensorflow:Assets written to: ../models/cnn_baseline_model\\assets\n"
     ]
    }
   ],
   "source": [
    "model.save(\"../models/cnn_baseline_model\")"
   ]
  },
  {
   "cell_type": "code",
   "execution_count": null,
   "id": "96502848",
   "metadata": {},
   "outputs": [],
   "source": []
  }
 ],
 "metadata": {
  "kernelspec": {
   "display_name": "tf210",
   "language": "python",
   "name": "python3"
  },
  "language_info": {
   "codemirror_mode": {
    "name": "ipython",
    "version": 3
   },
   "file_extension": ".py",
   "mimetype": "text/x-python",
   "name": "python",
   "nbconvert_exporter": "python",
   "pygments_lexer": "ipython3",
   "version": "3.9.23"
  }
 },
 "nbformat": 4,
 "nbformat_minor": 5
}
